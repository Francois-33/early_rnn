{
 "cells": [
  {
   "cell_type": "code",
   "execution_count": 28,
   "metadata": {},
   "outputs": [
    {
     "ename": "ImportError",
     "evalue": "cannot import name 'prepare_models' from 'utils.prepare_components' (../src/utils/prepare_components.py)",
     "output_type": "error",
     "traceback": [
      "\u001b[0;31m---------------------------------------------------------------------------\u001b[0m",
      "\u001b[0;31mImportError\u001b[0m                               Traceback (most recent call last)",
      "\u001b[0;32m<ipython-input-28-80ef35e46490>\u001b[0m in \u001b[0;36m<module>\u001b[0;34m\u001b[0m\n\u001b[1;32m      5\u001b[0m \u001b[0;32mimport\u001b[0m \u001b[0msys\u001b[0m\u001b[0;34m\u001b[0m\u001b[0;34m\u001b[0m\u001b[0m\n\u001b[1;32m      6\u001b[0m \u001b[0msys\u001b[0m\u001b[0;34m.\u001b[0m\u001b[0mpath\u001b[0m\u001b[0;34m.\u001b[0m\u001b[0mappend\u001b[0m\u001b[0;34m(\u001b[0m\u001b[0;34m\"../src\"\u001b[0m\u001b[0;34m)\u001b[0m\u001b[0;34m\u001b[0m\u001b[0;34m\u001b[0m\u001b[0m\n\u001b[0;32m----> 7\u001b[0;31m \u001b[0;32mfrom\u001b[0m \u001b[0mutils\u001b[0m\u001b[0;34m.\u001b[0m\u001b[0mprepare_components\u001b[0m \u001b[0;32mimport\u001b[0m \u001b[0mprepare_models\u001b[0m\u001b[0;34m\u001b[0m\u001b[0;34m\u001b[0m\u001b[0m\n\u001b[0m",
      "\u001b[0;31mImportError\u001b[0m: cannot import name 'prepare_models' from 'utils.prepare_components' (../src/utils/prepare_components.py)"
     ]
    }
   ],
   "source": [
    "import torch\n",
    "import ray\n",
    "import ray.tune\n",
    "import os\n",
    "import sys\n",
    "sys.path.append(\"../src\")\n",
    "from utils.prepare_components import prepare_models"
   ]
  },
  {
   "cell_type": "code",
   "execution_count": 7,
   "metadata": {},
   "outputs": [
    {
     "name": "stdout",
     "output_type": "stream",
     "text": [
      "error_2019-09-17_09-49-28.txt  params.pkl    result.json\r\n",
      "params.json\t\t       progress.csv\r\n"
     ]
    }
   ],
   "source": [
    "!ls /data/early_rnn/tune/Conv1D/Adiac/"
   ]
  },
  {
   "cell_type": "code",
   "execution_count": 18,
   "metadata": {},
   "outputs": [
    {
     "data": {
      "text/plain": [
       "'/data/early_rnn/tune/Conv1D/Adiac/RayTrainer_44_alpha=0.74721,batchsize=32,dataset=Adiac,dropout=0.6011,epsilon=5.3715,hidden_dims=75,learning_rate=0.21393,local_di_2019-09-17_05-28-02d5fv0se9'"
      ]
     },
     "execution_count": 18,
     "metadata": {},
     "output_type": "execute_result"
    }
   ],
   "source": [
    "best = ray.tune.Analysis(\"/data/early_rnn/tune/Conv1D/Adiac/\").dataframe().sort_values(by=\"score\", ascending=False).iloc[0]\n",
    "\n",
    "best.logdir"
   ]
  },
  {
   "cell_type": "code",
   "execution_count": 23,
   "metadata": {},
   "outputs": [
    {
     "name": "stdout",
     "output_type": "stream",
     "text": [
      "checkpoint_60\t\t\t\t params.json\r\n",
      "checkpoint_60.pth\t\t\t params.pkl\r\n",
      "checkpoint_60.pth.tune_metadata\t\t progress.csv\r\n",
      "events.out.tfevents.1568690974.marc-uni  result.json\r\n"
     ]
    }
   ],
   "source": [
    "!ls '/data/early_rnn/tune/Conv1D/Adiac/RayTrainer_44_alpha=0.74721,batchsize=32,dataset=Adiac,dropout=0.6011,epsilon=5.3715,hidden_dims=75,learning_rate=0.21393,local_di_2019-09-17_05-28-02d5fv0se9'\n",
    "checkpoint_path = os.path.join(best.logdir,\"checkpoint_60.pth\")"
   ]
  },
  {
   "cell_type": "code",
   "execution_count": null,
   "metadata": {},
   "outputs": [],
   "source": []
  }
 ],
 "metadata": {
  "kernelspec": {
   "display_name": "Python 3",
   "language": "python",
   "name": "python3"
  },
  "language_info": {
   "codemirror_mode": {
    "name": "ipython",
    "version": 3
   },
   "file_extension": ".py",
   "mimetype": "text/x-python",
   "name": "python",
   "nbconvert_exporter": "python",
   "pygments_lexer": "ipython3",
   "version": "3.7.3"
  }
 },
 "nbformat": 4,
 "nbformat_minor": 2
}
